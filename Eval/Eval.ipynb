{
 "cells": [
  {
   "cell_type": "code",
   "execution_count": 38,
   "metadata": {},
   "outputs": [],
   "source": [
    "from openai import OpenAI\n",
    "import configparser\n",
    "import pandas as pd\n",
    "from gensim.models import KeyedVectors\n",
    "from sklearn.metrics.pairwise import cosine_similarity\n",
    "import numpy as np"
   ]
  },
  {
   "cell_type": "code",
   "execution_count": 39,
   "metadata": {},
   "outputs": [],
   "source": [
    "model = KeyedVectors.load_word2vec_format('../../Modell_Fast_text/wiki-news-300d-1M-subword.vec', binary=False)"
   ]
  },
  {
   "cell_type": "code",
   "execution_count": 41,
   "metadata": {},
   "outputs": [],
   "source": [
    "# Funktion, um Text in einen Durchschnittsvektor umzuwandeln\n",
    "def text_to_vector(text, model):\n",
    "    words = text.split()\n",
    "    word_vectors = [model[word] for word in words if word in model]\n",
    "    if not word_vectors:\n",
    "        return np.zeros(model.vector_size)\n",
    "    return np.mean(word_vectors, axis=0)\n",
    "\n",
    "# Funktion zur Berechnung der Kosinusähnlichkeit zwischen zwei Texten\n",
    "def cosine_similarity_texts(text1, text2, model):\n",
    "    vector1 = text_to_vector(text1, model)\n",
    "    vector2 = text_to_vector(text2, model)\n",
    "    return cosine_similarity([vector1], [vector2])[0][0]"
   ]
  },
  {
   "cell_type": "code",
   "execution_count": 21,
   "metadata": {},
   "outputs": [],
   "source": [
    "# OpenAI API Key\n",
    "config = configparser.ConfigParser()\n",
    "config.read('../../Edu_Llama/config.ini')\n",
    "api_key = config['openai']['api_key']"
   ]
  },
  {
   "cell_type": "code",
   "execution_count": 22,
   "metadata": {},
   "outputs": [],
   "source": [
    "client = OpenAI(api_key=api_key)"
   ]
  },
  {
   "cell_type": "code",
   "execution_count": 23,
   "metadata": {},
   "outputs": [],
   "source": [
    "#Modelle gpt-4-1106-preview und gpt-3.5-turbo\n",
    "llm1 = \"gpt-3.5-turbo\"\n",
    "llm2 = \"gpt-4-1106-preview\""
   ]
  },
  {
   "cell_type": "code",
   "execution_count": 24,
   "metadata": {},
   "outputs": [],
   "source": [
    "questions = pd.read_csv(\"../../Fragen/Fragen DB.CSV\", sep=\";\") "
   ]
  },
  {
   "cell_type": "code",
   "execution_count": 25,
   "metadata": {},
   "outputs": [
    {
     "data": {
      "text/html": [
       "<div>\n",
       "<style scoped>\n",
       "    .dataframe tbody tr th:only-of-type {\n",
       "        vertical-align: middle;\n",
       "    }\n",
       "\n",
       "    .dataframe tbody tr th {\n",
       "        vertical-align: top;\n",
       "    }\n",
       "\n",
       "    .dataframe thead th {\n",
       "        text-align: right;\n",
       "    }\n",
       "</style>\n",
       "<table border=\"1\" class=\"dataframe\">\n",
       "  <thead>\n",
       "    <tr style=\"text-align: right;\">\n",
       "      <th></th>\n",
       "      <th>Question</th>\n",
       "      <th>Answer</th>\n",
       "    </tr>\n",
       "  </thead>\n",
       "  <tbody>\n",
       "    <tr>\n",
       "      <th>0</th>\n",
       "      <td>Question: What are the basic features of Relat...</td>\n",
       "      <td>Answer: The basic features of RDMS include the...</td>\n",
       "    </tr>\n",
       "    <tr>\n",
       "      <th>1</th>\n",
       "      <td>Question: What are the key components of a dat...</td>\n",
       "      <td>Answer: Key components of a database system en...</td>\n",
       "    </tr>\n",
       "    <tr>\n",
       "      <th>2</th>\n",
       "      <td>Question: What is a relation (relation state) ...</td>\n",
       "      <td>Answer: A relation (relation state) in relatio...</td>\n",
       "    </tr>\n",
       "    <tr>\n",
       "      <th>3</th>\n",
       "      <td>Question: What is the definition and significa...</td>\n",
       "      <td>Answer: A binary relation in relational databa...</td>\n",
       "    </tr>\n",
       "    <tr>\n",
       "      <th>4</th>\n",
       "      <td>Question: What are entity types and sets in th...</td>\n",
       "      <td>Answer: An entity type is a definition of a co...</td>\n",
       "    </tr>\n",
       "  </tbody>\n",
       "</table>\n",
       "</div>"
      ],
      "text/plain": [
       "                                            Question  \\\n",
       "0  Question: What are the basic features of Relat...   \n",
       "1  Question: What are the key components of a dat...   \n",
       "2  Question: What is a relation (relation state) ...   \n",
       "3  Question: What is the definition and significa...   \n",
       "4  Question: What are entity types and sets in th...   \n",
       "\n",
       "                                              Answer  \n",
       "0  Answer: The basic features of RDMS include the...  \n",
       "1  Answer: Key components of a database system en...  \n",
       "2  Answer: A relation (relation state) in relatio...  \n",
       "3  Answer: A binary relation in relational databa...  \n",
       "4  Answer: An entity type is a definition of a co...  "
      ]
     },
     "execution_count": 25,
     "metadata": {},
     "output_type": "execute_result"
    }
   ],
   "source": [
    "questions.head()\n"
   ]
  },
  {
   "cell_type": "code",
   "execution_count": 26,
   "metadata": {},
   "outputs": [],
   "source": [
    "question = questions[\"Question\"][0]\n",
    "answer = questions[\"Answer\"][0]"
   ]
  },
  {
   "cell_type": "code",
   "execution_count": 28,
   "metadata": {},
   "outputs": [],
   "source": [
    "response1 = client.chat.completions.create(\n",
    "    model=llm1,\n",
    "    messages=[{\"role\": \"user\", \"content\": f\"{question}\"}]\n",
    ")\n",
    "answer1 = response1.choices[0].message.content"
   ]
  },
  {
   "cell_type": "code",
   "execution_count": 29,
   "metadata": {},
   "outputs": [],
   "source": [
    "response2 = client.chat.completions.create(\n",
    "    model=llm2,\n",
    "    messages=[{\"role\": \"user\", \"content\": f\"{question}\"}]\n",
    ")\n",
    "answer2 = response2.choices[0].message.content"
   ]
  },
  {
   "cell_type": "code",
   "execution_count": 30,
   "metadata": {},
   "outputs": [],
   "source": [
    "auswertung = response2 = client.chat.completions.create(\n",
    "    model=llm2,\n",
    "    messages=[{\"role\": \"system\", \"content\": \"I'll now give you a question, the sample solution to this question and 2 other answers. Decide based on the context of the model solution which of the two answers is better and only output “1” or “2” as the result!\"},\n",
    "              {\"role\": \"user\", \"content\": f\"{question} \\n sample {answer} \\n 1. Answer: {answer1} \\n 2. Answer: {answer2}\"}]\n",
    ")"
   ]
  },
  {
   "cell_type": "code",
   "execution_count": 35,
   "metadata": {},
   "outputs": [],
   "source": [
    "better_answer = auswertung.choices[0].message.content"
   ]
  },
  {
   "cell_type": "code",
   "execution_count": 32,
   "metadata": {},
   "outputs": [
    {
     "data": {
      "text/plain": [
       "'Question: What are the basic features of Relational Database Management Systems (RDMS)? \\n sample Answer: The basic features of RDMS include the ability to create a database, write and execute SQL queries, evaluate storage structures, read execution plans and optimize queries, and understand transaction isolation layers. \\n 1. Answer: Relational Database Management Systems (RDBMS) have several basic features that distinguish them from other types of database management systems. Some of the key features of RDBMS include:\\n\\n1. Tabular Structure: RDBMS store data in the form of tables, where each table consists of rows and columns. Tables are used to represent entities or relations in the database.\\n\\n2. Data Integrity: RDBMS enforce data integrity through the use of constraints such as unique values, primary keys, foreign keys, and referential integrity. These constraints ensure that data remains consistent and accurate.\\n\\n3. Relationships between Tables: RDBMS allow for establishing relationships between different tables through the use of primary and foreign keys. These relationships help in maintaining data consistency and enable efficient retrieval of related data through joins.\\n\\n4. SQL Language: RDBMS use Structured Query Language (SQL) as the standard language for querying and managing data. SQL provides a powerful and flexible way to interact with the database, allowing users to perform various operations like fetching, updating, deleting, and inserting data.\\n\\n5. ACID Transactions: RDBMS support ACID (Atomicity, Consistency, Isolation, Durability) properties to ensure reliable and consistent data management. ACID transactions guarantee that a group of database operations either all succeed or none of them are applied, maintaining data integrity.\\n\\n6. Security: RDBMS provide robust security mechanisms to protect data. They allow setting up user accounts with different access privileges, ensuring that only authorized users can access or manipulate the data.\\n\\n7. Scalability and Performance: RDBMS are designed to handle large amounts of data and perform efficiently, even as the database grows. They provide mechanisms for indexing, optimization, and caching to improve query performance.\\n\\n8. Data Backup and Recovery: RDBMS offer backup and recovery functionalities to protect data against loss or corruption. Regular backups can be taken to ensure data can be restored in case of system failures or disasters.\\n\\n9. Concurrency Control: RDBMS manage concurrent access to the database by multiple users or applications, preventing data inconsistencies and conflicts. They employ techniques like locking and multi-version concurrency control to ensure data integrity in a concurrent environment.\\n\\n10. Extensibility: RDBMS allow for the addition of new attributes, tables, or relations to the database schema without impacting existing data or applications. This extensibility feature enables databases to evolve and adapt to changing requirements.\\n\\nThese features make RDBMS ideal for handling structured data in various domains like business, finance, healthcare, and more. \\n 2. Answer: Relational Database Management Systems (RDBMS) are designed to manage large amounts of data by storing them in tables that are related to each other through common fields. The basic features of RDBMS include:\\n\\n1. Tables: Data is stored in tables, which are composed of rows and columns. Each row represents a single record, and each column represents a field of the record.\\n\\n2. Primary Keys: Each table has a primary key, which is a unique identifier for each record. No two rows can have the same primary key value, ensuring data integrity.\\n\\n3. Foreign Keys: Foreign keys are used to establish and enforce a link between the data in two tables. A foreign key in one table points to a primary key in another table, creating a relationship between the two tables.\\n\\n4. Data Manipulation Language (DML): DML allows users to insert, delete, update, and query the data held in the database. These operations are performed using SQL (Structured Query Language).\\n\\n5. Data Definition Language (DDL): DDL is used to define and manage database objects such as tables, indexes, and views. It includes commands such as CREATE, ALTER, and DROP.\\n\\n6. ACID Properties: RDBMS ensure that all database transactions conform to the ACID properties (Atomicity, Consistency, Isolation, Durability), which safeguard the integrity of data by making sure transactions are completed successfully or not executed at all.\\n\\n7. Data Integrity: Constraints can be applied to database tables to ensure data integrity. These include NOT NULL, UNIQUE, CHECK, and REFERENTIAL integrity constraints.\\n\\n8. Indexes: RDBMS use indexes to enhance the speed of data retrieval operations on a database table.\\n\\n9. Views: A view is a virtual table that is based on a SELECT query that aggregates data from one or more tables. Views can hide complexity and provide a simplified interface to the underlying data.\\n\\n10. Security: RDBMS provide security features to manage user permissions and access control, ensuring that only authorized users can access or manipulate the data.\\n\\n11. Multi-User Support: RDBMS allows concurrent access by multiple users in a controlled manner, ensuring that transactions are processed reliably and isolation is maintained where needed.\\n\\n12. Backup and Recovery: RDBMS include tools and functionalities for backing up data and recovering it in the event of hardware or software failure.\\n\\nThese features make RDBMS a robust and flexible choice for managing structured data in various applications, ranging from financial systems to content management platforms and beyond.'"
      ]
     },
     "execution_count": 32,
     "metadata": {},
     "output_type": "execute_result"
    }
   ],
   "source": [
    "f\"{question} \\n sample {answer} \\n 1. Answer: {answer1} \\n 2. Answer: {answer2}\""
   ]
  },
  {
   "cell_type": "markdown",
   "metadata": {},
   "source": [
    "### Kosinusähnlichkeit"
   ]
  },
  {
   "cell_type": "code",
   "execution_count": 42,
   "metadata": {},
   "outputs": [],
   "source": [
    "# Berechnen der Ähnlichkeit für jede Zeile\n",
    "cos_1 = cosine_similarity_texts(answer, answer1, model)\n",
    "cos_2 = cosine_similarity_texts(answer, answer2, model)"
   ]
  },
  {
   "cell_type": "code",
   "execution_count": 45,
   "metadata": {},
   "outputs": [],
   "source": [
    "if cos_1 > cos_2:\n",
    "    better_answer = 1\n",
    "else:\n",
    "    better_answer = 2"
   ]
  },
  {
   "cell_type": "markdown",
   "metadata": {},
   "source": [
    "### Final Data Frame"
   ]
  },
  {
   "cell_type": "code",
   "execution_count": 46,
   "metadata": {},
   "outputs": [],
   "source": [
    "\n",
    "final_table = pd.DataFrame(columns=[\"Question\", \"Answer\", \"Answer1\", \"Answer2\", \"Result\", \"similarity_1\", \"similarity_2\",\"similarity_winner\"])\n",
    "# Ihre Liste\n",
    "neue_zeile = [question, answer, answer1, answer2, better_answer,cos_1, cos_2,better_answer]\n",
    "\n",
    "# Hinzufügen der neuen Zeile\n",
    "final_table.loc[len(final_table)] = neue_zeile"
   ]
  },
  {
   "cell_type": "code",
   "execution_count": 47,
   "metadata": {},
   "outputs": [
    {
     "data": {
      "text/html": [
       "<div>\n",
       "<style scoped>\n",
       "    .dataframe tbody tr th:only-of-type {\n",
       "        vertical-align: middle;\n",
       "    }\n",
       "\n",
       "    .dataframe tbody tr th {\n",
       "        vertical-align: top;\n",
       "    }\n",
       "\n",
       "    .dataframe thead th {\n",
       "        text-align: right;\n",
       "    }\n",
       "</style>\n",
       "<table border=\"1\" class=\"dataframe\">\n",
       "  <thead>\n",
       "    <tr style=\"text-align: right;\">\n",
       "      <th></th>\n",
       "      <th>Question</th>\n",
       "      <th>Answer</th>\n",
       "      <th>Answer1</th>\n",
       "      <th>Answer2</th>\n",
       "      <th>Result</th>\n",
       "      <th>similarity_1</th>\n",
       "      <th>similarity_2</th>\n",
       "      <th>similarity_winner</th>\n",
       "    </tr>\n",
       "  </thead>\n",
       "  <tbody>\n",
       "    <tr>\n",
       "      <th>0</th>\n",
       "      <td>Question: What are the basic features of Relat...</td>\n",
       "      <td>Answer: The basic features of RDMS include the...</td>\n",
       "      <td>Relational Database Management Systems (RDBMS)...</td>\n",
       "      <td>Relational Database Management Systems (RDBMS)...</td>\n",
       "      <td>2</td>\n",
       "      <td>0.946672</td>\n",
       "      <td>0.955012</td>\n",
       "      <td>2</td>\n",
       "    </tr>\n",
       "  </tbody>\n",
       "</table>\n",
       "</div>"
      ],
      "text/plain": [
       "                                            Question  \\\n",
       "0  Question: What are the basic features of Relat...   \n",
       "\n",
       "                                              Answer  \\\n",
       "0  Answer: The basic features of RDMS include the...   \n",
       "\n",
       "                                             Answer1  \\\n",
       "0  Relational Database Management Systems (RDBMS)...   \n",
       "\n",
       "                                             Answer2  Result  similarity_1  \\\n",
       "0  Relational Database Management Systems (RDBMS)...       2      0.946672   \n",
       "\n",
       "   similarity_2  similarity_winner  \n",
       "0      0.955012                  2  "
      ]
     },
     "execution_count": 47,
     "metadata": {},
     "output_type": "execute_result"
    }
   ],
   "source": [
    "final_table"
   ]
  }
 ],
 "metadata": {
  "kernelspec": {
   "display_name": "semester_5",
   "language": "python",
   "name": "python3"
  },
  "language_info": {
   "codemirror_mode": {
    "name": "ipython",
    "version": 3
   },
   "file_extension": ".py",
   "mimetype": "text/x-python",
   "name": "python",
   "nbconvert_exporter": "python",
   "pygments_lexer": "ipython3",
   "version": "3.9.18"
  }
 },
 "nbformat": 4,
 "nbformat_minor": 2
}
