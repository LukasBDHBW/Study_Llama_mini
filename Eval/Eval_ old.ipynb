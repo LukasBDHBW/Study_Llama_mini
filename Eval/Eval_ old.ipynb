{
 "cells": [
  {
   "cell_type": "code",
   "execution_count": 1,
   "metadata": {},
   "outputs": [],
   "source": [
    "from openai import OpenAI\n",
    "import configparser\n",
    "import pandas as pd\n",
    "from gensim.models import KeyedVectors\n",
    "from sklearn.metrics.pairwise import cosine_similarity\n",
    "import numpy as np"
   ]
  },
  {
   "cell_type": "code",
   "execution_count": 2,
   "metadata": {},
   "outputs": [],
   "source": [
    "\n",
    "model_word = KeyedVectors.load_word2vec_format('../../Modell_Fast_text/wiki-news-300d-1M-subword.vec', binary=False)"
   ]
  },
  {
   "cell_type": "code",
   "execution_count": 56,
   "metadata": {},
   "outputs": [],
   "source": [
    "final_table = pd.DataFrame(columns=[\"Question\", \"Answer\", \"Answer1\", \"Answer2\", \"Result\", \"similarity_1\", \"similarity_2\",\"similarity_winner\"])"
   ]
  },
  {
   "cell_type": "code",
   "execution_count": 3,
   "metadata": {},
   "outputs": [],
   "source": [
    "def text_to_vector(text, model):\n",
    "    words = text.split()\n",
    "    word_vectors = [model[word] for word in words if word in model]\n",
    "    if not word_vectors:\n",
    "        return np.zeros(model.vector_size)\n",
    "    return np.mean(word_vectors, axis=0)\n",
    "\n",
    "\n",
    "def cosine_similarity_texts(text1, text2, model):\n",
    "    vector1 = text_to_vector(text1, model)\n",
    "    vector2 = text_to_vector(text2, model)\n",
    "    return cosine_similarity([vector1], [vector2])[0][0]"
   ]
  },
  {
   "cell_type": "code",
   "execution_count": 4,
   "metadata": {},
   "outputs": [],
   "source": [
    "config = configparser.ConfigParser()\n",
    "config.read('../../Edu_Llama/config.ini')\n",
    "api_key = config['openai']['api_key']"
   ]
  },
  {
   "cell_type": "code",
   "execution_count": 5,
   "metadata": {},
   "outputs": [],
   "source": [
    "client = OpenAI(api_key=api_key)"
   ]
  },
  {
   "cell_type": "code",
   "execution_count": 6,
   "metadata": {},
   "outputs": [],
   "source": [
    "llm1 = \"gpt-3.5-turbo\"\n",
    "llm2 = \"gpt-4-1106-preview\""
   ]
  },
  {
   "cell_type": "code",
   "execution_count": 7,
   "metadata": {},
   "outputs": [],
   "source": [
    "questions = pd.read_csv(\"../../Fragen/Fragen DB.CSV\", sep=\";\") "
   ]
  },
  {
   "cell_type": "code",
   "execution_count": 8,
   "metadata": {},
   "outputs": [
    {
     "data": {
      "text/html": [
       "<div>\n",
       "<style scoped>\n",
       "    .dataframe tbody tr th:only-of-type {\n",
       "        vertical-align: middle;\n",
       "    }\n",
       "\n",
       "    .dataframe tbody tr th {\n",
       "        vertical-align: top;\n",
       "    }\n",
       "\n",
       "    .dataframe thead th {\n",
       "        text-align: right;\n",
       "    }\n",
       "</style>\n",
       "<table border=\"1\" class=\"dataframe\">\n",
       "  <thead>\n",
       "    <tr style=\"text-align: right;\">\n",
       "      <th></th>\n",
       "      <th>Question</th>\n",
       "      <th>Answer</th>\n",
       "    </tr>\n",
       "  </thead>\n",
       "  <tbody>\n",
       "    <tr>\n",
       "      <th>0</th>\n",
       "      <td>Question: What are the basic features of Relat...</td>\n",
       "      <td>Answer: The basic features of RDMS include the...</td>\n",
       "    </tr>\n",
       "    <tr>\n",
       "      <th>1</th>\n",
       "      <td>Question: What are the key components of a dat...</td>\n",
       "      <td>Answer: Key components of a database system en...</td>\n",
       "    </tr>\n",
       "    <tr>\n",
       "      <th>2</th>\n",
       "      <td>Question: What is a relation (relation state) ...</td>\n",
       "      <td>Answer: A relation (relation state) in relatio...</td>\n",
       "    </tr>\n",
       "    <tr>\n",
       "      <th>3</th>\n",
       "      <td>Question: What is the definition and significa...</td>\n",
       "      <td>Answer: A binary relation in relational databa...</td>\n",
       "    </tr>\n",
       "    <tr>\n",
       "      <th>4</th>\n",
       "      <td>Question: What are entity types and sets in th...</td>\n",
       "      <td>Answer: An entity type is a definition of a co...</td>\n",
       "    </tr>\n",
       "  </tbody>\n",
       "</table>\n",
       "</div>"
      ],
      "text/plain": [
       "                                            Question  \\\n",
       "0  Question: What are the basic features of Relat...   \n",
       "1  Question: What are the key components of a dat...   \n",
       "2  Question: What is a relation (relation state) ...   \n",
       "3  Question: What is the definition and significa...   \n",
       "4  Question: What are entity types and sets in th...   \n",
       "\n",
       "                                              Answer  \n",
       "0  Answer: The basic features of RDMS include the...  \n",
       "1  Answer: Key components of a database system en...  \n",
       "2  Answer: A relation (relation state) in relatio...  \n",
       "3  Answer: A binary relation in relational databa...  \n",
       "4  Answer: An entity type is a definition of a co...  "
      ]
     },
     "execution_count": 8,
     "metadata": {},
     "output_type": "execute_result"
    }
   ],
   "source": [
    "questions.head()\n"
   ]
  },
  {
   "cell_type": "code",
   "execution_count": 9,
   "metadata": {},
   "outputs": [],
   "source": [
    "question = questions[\"Question\"][0]\n",
    "answer = questions[\"Answer\"][0]"
   ]
  },
  {
   "cell_type": "code",
   "execution_count": 10,
   "metadata": {},
   "outputs": [],
   "source": [
    "response1 = client.chat.completions.create(\n",
    "    model=llm1,\n",
    "    messages=[{\"role\": \"user\", \"content\": f\"{question}\"}]\n",
    ")\n",
    "answer1 = response1.choices[0].message.content"
   ]
  },
  {
   "cell_type": "code",
   "execution_count": 11,
   "metadata": {},
   "outputs": [],
   "source": [
    "response2 = client.chat.completions.create(\n",
    "    model=llm2,\n",
    "    messages=[{\"role\": \"user\", \"content\": f\"{question}\"}]\n",
    ")\n",
    "answer2 = response2.choices[0].message.content"
   ]
  },
  {
   "cell_type": "code",
   "execution_count": 66,
   "metadata": {},
   "outputs": [],
   "source": [
    "import random\n",
    "\n",
    "zufallszahl = random.choice([0, 1])\n",
    "answers= [answer1, answer2]\n",
    "\n",
    "if zufallszahl == 0:\n",
    "    zufallszahl2 = 1\n",
    "else:\n",
    "    zufallszahl2 = 0"
   ]
  },
  {
   "cell_type": "code",
   "execution_count": 15,
   "metadata": {},
   "outputs": [],
   "source": [
    "auswertung = client.chat.completions.create(\n",
    "    model=llm2,\n",
    "    messages=[{\"role\": \"system\", \"content\": \"I'll now give you a question, the sample solution to this question and 2 other answers. Decide based on the context of the model solution which of the two answers is better and only output “1” or “2” as the result!\"},\n",
    "              {\"role\": \"user\", \"content\": f\"{question} \\n sample {answer} \\n 1. Answer: {answers[zufallszahl]} \\n 2. Answer: {answers[zufallszahl2]}\"}]\n",
    ")"
   ]
  },
  {
   "cell_type": "code",
   "execution_count": 68,
   "metadata": {},
   "outputs": [],
   "source": [
    "better_answer_llm = auswertung.choices[0].message.content\n",
    "better_answer_llm = int(better_answer_llm)"
   ]
  },
  {
   "cell_type": "code",
   "execution_count": 69,
   "metadata": {},
   "outputs": [
    {
     "data": {
      "text/plain": [
       "1"
      ]
     },
     "execution_count": 69,
     "metadata": {},
     "output_type": "execute_result"
    }
   ],
   "source": [
    "better_answer_llm"
   ]
  },
  {
   "cell_type": "code",
   "execution_count": 70,
   "metadata": {},
   "outputs": [
    {
     "data": {
      "text/plain": [
       "\"Question: What are the basic features of Relational Database Management Systems (RDMS)? \\n sample Answer: The basic features of RDMS include the ability to create a database, write and execute SQL queries, evaluate storage structures, read execution plans and optimize queries, and understand transaction isolation layers. \\n 1. Answer: Relational Database Management Systems (RDBMS) have several basic features that differentiate them from other types of database management systems. Here are some of the key features:\\n\\n1. Structure: RDBMS organizes data into tables with rows and columns, where each table represents a specific entity (e.g., customers, products). The columns represent attributes or characteristics of the entity, and the rows represent individual records or instances.\\n\\n2. Data Integrity: RDBMS enforce data integrity constraints to maintain the accuracy and consistency of data. These constraints include primary key constraints, foreign key constraints, unique constraints, and check constraints.\\n\\n3. Relationships: RDBMS allow for establishing relationships between tables using primary and foreign keys. This enables the creation of meaningful associations between entities and supports data retrieval through joins.\\n\\n4. SQL: RDBMS use Structured Query Language (SQL) as the standard language for interacting with the database. SQL allows users to perform various operations such as querying, inserting, updating, and deleting data in a relational database.\\n\\n5. ACID Properties: RDBMS ensure data integrity and reliability by following the ACID properties. These properties stand for Atomicity (all or nothing), Consistency (maintains validity), Isolation (transactions do not interfere with each other), and Durability (committed data is permanently saved).\\n\\n6. Scalability: RDBMS can handle large amounts of data and support scalability by adding more hardware or distributing the database across multiple servers. This allows for efficient management of growing datasets.\\n\\n7. Indexing: RDBMS use indexes to improve the performance of data retrieval operations. Indexes are data structures that store a subset of data to enable faster searching based on certain columns or attributes.\\n\\n8. Security: RDBMS provide robust security features to protect data from unauthorized access. These features include user authentication, role-based access control, and encryption mechanisms to safeguard sensitive information.\\n\\n9. Transactions: RDBMS support transactions, which are a set of operations performed as a single unit. Transactions ensure the atomicity and consistency of database operations, allowing multiple operations to succeed or fail together.\\n\\nThese basic features make RDBMS highly efficient, reliable, and flexible for managing structured data and handling complex relationships between entities. \\n 2. Answer: Relational Database Management Systems (RDBMS) are built on the relational model introduced by E.F. Codd. The basic features that make up RDBMS include:\\n\\n1. Tables: Data is organized into tables (also known as relations), which consist of rows (records) and columns (fields or attributes).\\n\\n2. Primary Keys: Each table has a unique identifier called a primary key, which ensures that each record within a table can be uniquely identified.\\n\\n3. Foreign Keys: These are attributes in a table that create a link between two tables, referencing the primary key in another table to establish a relationship between the data.\\n\\n4. Structured Query Language (SQL): RDBMS uses SQL, a standardized language, for writing database queries. This language enables users to insert, search, update, delete, and manage data.\\n\\n5. Data Integrity: Through constraints and rules, RDBMS ensures the accuracy and integrity of data. This includes entity integrity (no duplicate rows), referential integrity (foreign keys must correspond to primary keys), and domain integrity (valid entries for columns).\\n\\n6. Transactions: RDBMS supports transactions, which are sequences of operations performed as a single logical unit of work. A transaction must be completely processed or not processed at all, maintaining the database's consistency in the event of a system failure.\\n\\n7. ACID Properties: RDBMS follow the principles of Atomicity, Consistency, Isolation, and Durability to ensure secure and reliable database transactions.\\n\\n8. Data Security: Mechanisms like user authentication, access control, and encryption are provided to secure the data against unauthorized access.\\n\\n9. Data Redundancy and Normalization: RDBMS minimize data redundancy through normalization, a process of organizing data to avoid duplication while maintaining data integrity.\\n\\n10. Backup and Recovery: RDBMS typically provide tools and mechanisms for backing up data and recovering it in case of data loss or corruption.\\n\\n11. Concurrency Control: RDBMS allow multiple users to access and manipulate data simultaneously without conflicting with each other's operations.\\n\\nThese features enable RDBMS to handle large amounts of structured data and support relationships among that data, making them suitable for various applications ranging from simple to complex enterprise systems.\""
      ]
     },
     "execution_count": 70,
     "metadata": {},
     "output_type": "execute_result"
    }
   ],
   "source": [
    "f\"{question} \\n sample {answer} \\n 1. Answer: {answer1} \\n 2. Answer: {answer2}\""
   ]
  },
  {
   "cell_type": "markdown",
   "metadata": {},
   "source": [
    "### Kosinusähnlichkeit"
   ]
  },
  {
   "cell_type": "code",
   "execution_count": 71,
   "metadata": {},
   "outputs": [],
   "source": [
    "cos_1 = cosine_similarity_texts(answer, answer1, model_word)\n",
    "cos_2 = cosine_similarity_texts(answer, answer2, model_word)"
   ]
  },
  {
   "cell_type": "code",
   "execution_count": 72,
   "metadata": {},
   "outputs": [],
   "source": [
    "if cos_1 > cos_2:\n",
    "    better_answer = 1\n",
    "else:\n",
    "    better_answer = 2"
   ]
  },
  {
   "cell_type": "markdown",
   "metadata": {},
   "source": [
    "### Final Data Frame"
   ]
  },
  {
   "cell_type": "code",
   "execution_count": null,
   "metadata": {},
   "outputs": [],
   "source": []
  },
  {
   "cell_type": "code",
   "execution_count": 73,
   "metadata": {},
   "outputs": [],
   "source": [
    "if zufallszahl == 1:\n",
    "    if int(better_answer_llm) == 1:\n",
    "        better_answer_llm = 2\n",
    "    else:\n",
    "        better_answer_llm = 1"
   ]
  },
  {
   "cell_type": "code",
   "execution_count": 74,
   "metadata": {},
   "outputs": [
    {
     "data": {
      "text/plain": [
       "2"
      ]
     },
     "execution_count": 74,
     "metadata": {},
     "output_type": "execute_result"
    }
   ],
   "source": [
    "better_answer_llm"
   ]
  },
  {
   "cell_type": "code",
   "execution_count": null,
   "metadata": {},
   "outputs": [],
   "source": [
    "# Einkommentieren falls tabelle gelöscht werden soll:\n",
    "# final_table = pd.DataFrame(columns=[\"Question\", \"Answer\", \"Answer1\", \"Answer2\", \"Result\", \"similarity_1\", \"similarity_2\",\"similarity_winner\"])"
   ]
  },
  {
   "cell_type": "code",
   "execution_count": 75,
   "metadata": {},
   "outputs": [],
   "source": [
    "neue_zeile = [question, answer, answer1, answer2, better_answer_llm,cos_1, cos_2,better_answer]\n",
    "\n",
    "final_table.loc[len(final_table)] = neue_zeile"
   ]
  },
  {
   "cell_type": "code",
   "execution_count": 76,
   "metadata": {},
   "outputs": [
    {
     "data": {
      "text/html": [
       "<div>\n",
       "<style scoped>\n",
       "    .dataframe tbody tr th:only-of-type {\n",
       "        vertical-align: middle;\n",
       "    }\n",
       "\n",
       "    .dataframe tbody tr th {\n",
       "        vertical-align: top;\n",
       "    }\n",
       "\n",
       "    .dataframe thead th {\n",
       "        text-align: right;\n",
       "    }\n",
       "</style>\n",
       "<table border=\"1\" class=\"dataframe\">\n",
       "  <thead>\n",
       "    <tr style=\"text-align: right;\">\n",
       "      <th></th>\n",
       "      <th>Question</th>\n",
       "      <th>Answer</th>\n",
       "      <th>Answer1</th>\n",
       "      <th>Answer2</th>\n",
       "      <th>Result</th>\n",
       "      <th>similarity_1</th>\n",
       "      <th>similarity_2</th>\n",
       "      <th>similarity_winner</th>\n",
       "    </tr>\n",
       "  </thead>\n",
       "  <tbody>\n",
       "    <tr>\n",
       "      <th>0</th>\n",
       "      <td>Question: What are the basic features of Relat...</td>\n",
       "      <td>Answer: The basic features of RDMS include the...</td>\n",
       "      <td>Relational Database Management Systems (RDBMS)...</td>\n",
       "      <td>Relational Database Management Systems (RDBMS)...</td>\n",
       "      <td>1</td>\n",
       "      <td>0.953682</td>\n",
       "      <td>0.957492</td>\n",
       "      <td>2</td>\n",
       "    </tr>\n",
       "    <tr>\n",
       "      <th>1</th>\n",
       "      <td>Question: What are the basic features of Relat...</td>\n",
       "      <td>Answer: The basic features of RDMS include the...</td>\n",
       "      <td>Relational Database Management Systems (RDBMS)...</td>\n",
       "      <td>Relational Database Management Systems (RDBMS)...</td>\n",
       "      <td>1</td>\n",
       "      <td>0.953682</td>\n",
       "      <td>0.957492</td>\n",
       "      <td>2</td>\n",
       "    </tr>\n",
       "    <tr>\n",
       "      <th>2</th>\n",
       "      <td>Question: What are the basic features of Relat...</td>\n",
       "      <td>Answer: The basic features of RDMS include the...</td>\n",
       "      <td>Relational Database Management Systems (RDBMS)...</td>\n",
       "      <td>Relational Database Management Systems (RDBMS)...</td>\n",
       "      <td>2</td>\n",
       "      <td>0.953682</td>\n",
       "      <td>0.957492</td>\n",
       "      <td>2</td>\n",
       "    </tr>\n",
       "  </tbody>\n",
       "</table>\n",
       "</div>"
      ],
      "text/plain": [
       "                                            Question  \\\n",
       "0  Question: What are the basic features of Relat...   \n",
       "1  Question: What are the basic features of Relat...   \n",
       "2  Question: What are the basic features of Relat...   \n",
       "\n",
       "                                              Answer  \\\n",
       "0  Answer: The basic features of RDMS include the...   \n",
       "1  Answer: The basic features of RDMS include the...   \n",
       "2  Answer: The basic features of RDMS include the...   \n",
       "\n",
       "                                             Answer1  \\\n",
       "0  Relational Database Management Systems (RDBMS)...   \n",
       "1  Relational Database Management Systems (RDBMS)...   \n",
       "2  Relational Database Management Systems (RDBMS)...   \n",
       "\n",
       "                                             Answer2  Result  similarity_1  \\\n",
       "0  Relational Database Management Systems (RDBMS)...       1      0.953682   \n",
       "1  Relational Database Management Systems (RDBMS)...       1      0.953682   \n",
       "2  Relational Database Management Systems (RDBMS)...       2      0.953682   \n",
       "\n",
       "   similarity_2  similarity_winner  \n",
       "0      0.957492                  2  \n",
       "1      0.957492                  2  \n",
       "2      0.957492                  2  "
      ]
     },
     "execution_count": 76,
     "metadata": {},
     "output_type": "execute_result"
    }
   ],
   "source": [
    "final_table"
   ]
  },
  {
   "cell_type": "code",
   "execution_count": 61,
   "metadata": {},
   "outputs": [],
   "source": [
    "file_name = 'Eval.csv'\n",
    "final_table.to_csv(file_name, index=False)"
   ]
  }
 ],
 "metadata": {
  "kernelspec": {
   "display_name": "semester_5",
   "language": "python",
   "name": "python3"
  },
  "language_info": {
   "codemirror_mode": {
    "name": "ipython",
    "version": 3
   },
   "file_extension": ".py",
   "mimetype": "text/x-python",
   "name": "python",
   "nbconvert_exporter": "python",
   "pygments_lexer": "ipython3",
   "version": "3.9.18"
  }
 },
 "nbformat": 4,
 "nbformat_minor": 2
}
