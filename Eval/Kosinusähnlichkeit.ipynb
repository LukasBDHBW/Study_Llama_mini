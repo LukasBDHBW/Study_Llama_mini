{
 "cells": [
  {
   "cell_type": "markdown",
   "metadata": {},
   "source": [
    "# Kosinusähnlichkeit auf Basis von Word2Vec"
   ]
  },
  {
   "cell_type": "markdown",
   "metadata": {},
   "source": [
    "### Verwendetes Modell: FastText"
   ]
  },
  {
   "cell_type": "code",
   "execution_count": 2,
   "metadata": {},
   "outputs": [],
   "source": [
    "import pandas as pd\n",
    "from gensim.models import KeyedVectors\n",
    "from sklearn.metrics.pairwise import cosine_similarity\n",
    "import numpy as np"
   ]
  },
  {
   "cell_type": "code",
   "execution_count": 5,
   "metadata": {},
   "outputs": [],
   "source": [
    "model = KeyedVectors.load_word2vec_format('../../Modell_Fast_text/wiki-news-300d-1M-subword.vec', binary=False)"
   ]
  },
  {
   "cell_type": "code",
   "execution_count": 7,
   "metadata": {},
   "outputs": [
    {
     "name": "stdout",
     "output_type": "stream",
     "text": [
      "                           Text1                         Text2  \\\n",
      "0       This is an example text.         Another example text.   \n",
      "1  This is another example text.  A completely different text.   \n",
      "\n",
      "   Cosine_Similarity  \n",
      "0           0.727900  \n",
      "1           0.246612  \n"
     ]
    }
   ],
   "source": [
    "# Funktion, um Text in einen Durchschnittsvektor umzuwandeln\n",
    "def text_to_vector(text, model):\n",
    "    words = text.split()\n",
    "    word_vectors = [model[word] for word in words if word in model]\n",
    "    if not word_vectors:\n",
    "        return np.zeros(model.vector_size)\n",
    "    return np.mean(word_vectors, axis=0)\n",
    "\n",
    "# Funktion zur Berechnung der Kosinusähnlichkeit zwischen zwei Texten\n",
    "def cosine_similarity_texts(text1, text2, model):\n",
    "    vector1 = text_to_vector(text1, model)\n",
    "    vector2 = text_to_vector(text2, model)\n",
    "    return cosine_similarity([vector1], [vector2])[0][0]\n",
    "\n",
    "# Erstellen eines Beispieldatenrahmens\n",
    "data = {\n",
    "    'Text1': ['This is an example text.', 'This is another example text.'],\n",
    "    'Text2': ['Another example text.', 'A completely different text.']\n",
    "}\n",
    "df = pd.DataFrame(data)\n",
    "\n",
    "# Berechnen der Ähnlichkeit für jede Zeile\n",
    "df['Cosine_Similarity'] = df.apply(lambda row: cosine_similarity_texts(row['Text1'], row['Text2'], model), axis=1)\n",
    "\n",
    "# Ergebnis anzeigen\n",
    "print(df)\n"
   ]
  }
 ],
 "metadata": {
  "kernelspec": {
   "display_name": "semester_5",
   "language": "python",
   "name": "python3"
  },
  "language_info": {
   "codemirror_mode": {
    "name": "ipython",
    "version": 3
   },
   "file_extension": ".py",
   "mimetype": "text/x-python",
   "name": "python",
   "nbconvert_exporter": "python",
   "pygments_lexer": "ipython3",
   "version": "3.9.18"
  }
 },
 "nbformat": 4,
 "nbformat_minor": 2
}
