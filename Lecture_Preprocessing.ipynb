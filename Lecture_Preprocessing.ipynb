{
 "cells": [
  {
   "cell_type": "markdown",
   "metadata": {},
   "source": [
    "# Lecture Preprocessing"
   ]
  },
  {
   "cell_type": "markdown",
   "metadata": {},
   "source": [
    "## Imports"
   ]
  },
  {
   "cell_type": "code",
   "execution_count": 1,
   "metadata": {},
   "outputs": [],
   "source": [
    "from pdf2image import convert_from_path\n",
    "from PIL import Image\n",
    "import matplotlib.pyplot as plt\n",
    "import openai\n",
    "import fitz  # PyMuPDF\n",
    "import io\n",
    "\n",
    "import base64\n",
    "import requests\n",
    "from io import BytesIO\n",
    "\n",
    "from langdetect import detect\n",
    "import PyPDF2\n",
    "from tqdm import tqdm\n",
    "import configparser\n",
    "from openai import OpenAI"
   ]
  },
  {
   "cell_type": "markdown",
   "metadata": {},
   "source": [
    "## Key and path variables\n",
    "\n"
   ]
  },
  {
   "cell_type": "code",
   "execution_count": 4,
   "metadata": {},
   "outputs": [],
   "source": [
    "# OpenAI API Key\n",
    "config = configparser.ConfigParser()\n",
    "config.read('../Edu_Llama/config.ini')\n",
    "api_key = config['openai']['api_key']"
   ]
  },
  {
   "cell_type": "code",
   "execution_count": 17,
   "metadata": {},
   "outputs": [],
   "source": [
    "\n",
    "# Pfad zur PDF-Datei\n",
    "pdf = '2020 11 Kapitel 01 UF Grundlagen.pdf'\n",
    "pdf_path = f'C:/Users/a829727/OneDrive - Atos/Dokumente/Uni/Semester 5/Unternehmensführung/{pdf}'\n",
    "\n"
   ]
  },
  {
   "cell_type": "markdown",
   "metadata": {},
   "source": [
    "# Picture control"
   ]
  },
  {
   "cell_type": "code",
   "execution_count": 6,
   "metadata": {},
   "outputs": [],
   "source": [
    "def extract_and_plot_images(pdf_path):\n",
    "    # PDF-Dokument öffnen\n",
    "    doc = fitz.open(pdf_path)\n",
    "    # Ermittle die Anzahl der Seiten\n",
    "    num_pages = len(doc)\n",
    "    images=[]\n",
    "    pages=[]\n",
    "    # Durch jede Seite des PDFs gehen\n",
    "    for i in range(428,len(doc)):\n",
    "        page = doc.load_page(i)\n",
    "\n",
    "        # Bilder auf der Seite extrahieren\n",
    "        for img in page.get_images(full=True):\n",
    "            xref = img[0]\n",
    "            base_image = doc.extract_image(xref)\n",
    "            image_bytes = base_image[\"image\"]\n",
    "\n",
    "            # Bild mit PIL verarbeiten\n",
    "            image = Image.open(io.BytesIO(image_bytes))\n",
    "            images.append(image)\n",
    "            # Bild anzeigen\n",
    "            plt.imshow(image)\n",
    "            print(f\"Seite: {i+1}\")\n",
    "            pages.append(i+1)\n",
    "            plt.axis('off')\n",
    "            plt.show()\n",
    "    pages = list(set(pages))\n",
    "    doc.close()\n",
    "    return images,pages,num_pages\n",
    "    \t\n",
    "images,pages,num_pages = extract_and_plot_images(pdf_path)"
   ]
  },
  {
   "cell_type": "markdown",
   "metadata": {},
   "source": [
    "## Funktions"
   ]
  },
  {
   "cell_type": "code",
   "execution_count": null,
   "metadata": {},
   "outputs": [],
   "source": [
    "pages.sort()"
   ]
  },
  {
   "cell_type": "markdown",
   "metadata": {},
   "source": [
    "### convert to base64"
   ]
  },
  {
   "cell_type": "code",
   "execution_count": 10,
   "metadata": {},
   "outputs": [],
   "source": [
    "# Funktion, um das PIL-Bild zu kodieren\n",
    "def encode_pil_image(pil_image):\n",
    "    buffered = BytesIO()\n",
    "    pil_image.save(buffered, format=\"JPEG\")\n",
    "    return base64.b64encode(buffered.getvalue()).decode('utf-8')"
   ]
  },
  {
   "cell_type": "markdown",
   "metadata": {},
   "source": [
    "### Extracting the text"
   ]
  },
  {
   "cell_type": "code",
   "execution_count": 11,
   "metadata": {},
   "outputs": [],
   "source": [
    "def extract_text_from_range(file_path, start_page, end_page):\n",
    "    with open(file_path, 'rb') as file:\n",
    "        pdf_reader = PyPDF2.PdfReader(file)\n",
    "        extracted_text = ''\n",
    "\n",
    "        # Anzahl der Seiten in der PDF-Datei bestimmen\n",
    "        num_pages = len(pdf_reader.pages)\n",
    "\n",
    "        # Überprüfung, ob die Seitenzahlen im gültigen Bereich liegen\n",
    "        if start_page < 0 or end_page > num_pages or start_page > end_page:\n",
    "            return \"Ungültiger Seitenbereich.\"\n",
    "\n",
    "        for page_number in tqdm(range(start_page, end_page), desc='Texextraktion'):\n",
    "            page = pdf_reader.pages[page_number]\n",
    "            page_text = page.extract_text()\n",
    "            if page_text:\n",
    "                extracted_text += page_text + '\\n'\n",
    "            else:\n",
    "                extracted_text += f'Kein Text auf Seite {page_number + 1}\\n'\n",
    "        \n",
    "    return extracted_text"
   ]
  },
  {
   "cell_type": "markdown",
   "metadata": {},
   "source": [
    "### Extracting Images"
   ]
  },
  {
   "cell_type": "code",
   "execution_count": 12,
   "metadata": {},
   "outputs": [],
   "source": [
    "\n",
    "def extract_images_from_pdf(file_path, page_number):\n",
    "    print(\"Extrahiere Bilder...\")\n",
    "    images = convert_from_path(file_path, first_page=page_number, last_page=page_number)\n",
    "    \n",
    "    bild=images[0]\n",
    "    if bild.size[0]>=600:\n",
    "        skale=600\n",
    "    else:\n",
    "        skale=bild.size[0]\n",
    "    # Neue Größe definieren \n",
    "    neue_groesse = (skale, int((bild.size[1]/bild.size[0])*skale))\n",
    "\n",
    "    # Bild skalieren\n",
    "    skaliertes_bild = bild.resize(neue_groesse)\n",
    "\n",
    "    return skaliertes_bild"
   ]
  },
  {
   "cell_type": "markdown",
   "metadata": {},
   "source": [
    "### Picture to text"
   ]
  },
  {
   "cell_type": "code",
   "execution_count": 13,
   "metadata": {},
   "outputs": [],
   "source": [
    "# Getting the base64 string\n",
    "def image_to_text(pil_image):\n",
    "  print(\"Image to text\")\n",
    "  base64_image = encode_pil_image(pil_image)\n",
    "  headers = {\n",
    "    \"Content-Type\": \"application/json\",\n",
    "    \"Authorization\": f\"Bearer {api_key}\"\n",
    "  }\n",
    "\n",
    "  payload = {\n",
    "    \"model\": \"gpt-4-vision-preview\",\n",
    "    \"messages\": [\n",
    "      {\n",
    "        \"role\": \"user\",\n",
    "        \"content\": [\n",
    "          {\n",
    "            \"type\": \"text\",\n",
    "            \"text\": \"Beschreibe den inhalt des Bildes?\"\n",
    "          },\n",
    "          {\n",
    "            \"type\": \"image_url\",\n",
    "            \"image_url\": {\n",
    "              \"url\": f\"data:image/jpeg;base64,{base64_image}\"\n",
    "            }\n",
    "          }\n",
    "        ]\n",
    "      }\n",
    "    ],\n",
    "    \"max_tokens\": 300\n",
    "  }\n",
    "\n",
    "  response = requests.post(\"https://api.openai.com/v1/chat/completions\", headers=headers, json=payload)\n",
    "\n",
    "  return response.json()['choices'][0]['message']['content']"
   ]
  },
  {
   "cell_type": "markdown",
   "metadata": {},
   "source": [
    "### Final pipeline"
   ]
  },
  {
   "cell_type": "code",
   "execution_count": 14,
   "metadata": {},
   "outputs": [],
   "source": [
    "def pre_process_pipeline(file_path, pages, num_pages):\n",
    "    final_text = ''\n",
    "    page_old = 0\n",
    "\n",
    "    if len(pages) == 0:\n",
    "        final_text = extract_text_from_range(file_path, 0, num_pages)\n",
    "    else:\n",
    "        for page in tqdm(pages, desc='Processing Pages'):\n",
    "            liste = list(range(num_pages))[page_old:page]\n",
    "            if page_old != page + 1:\n",
    "                text = extract_text_from_range(file_path, liste[0], liste[-1])\n",
    "                final_text += text\n",
    "            image = extract_images_from_pdf(file_path, page)\n",
    "            img_text = image_to_text(image)\n",
    "            final_text += f'Bild:{img_text}'\n",
    "            page_old = page\n",
    "            if page == pages[-1] and page != num_pages:\n",
    "                text = extract_text_from_range(file_path, page+1, num_pages)\n",
    "                final_text += text\n",
    "    \n",
    "    return final_text"
   ]
  },
  {
   "cell_type": "markdown",
   "metadata": {},
   "source": [
    "## Final Preprocessing"
   ]
  },
  {
   "cell_type": "code",
   "execution_count": 15,
   "metadata": {},
   "outputs": [
    {
     "name": "stderr",
     "output_type": "stream",
     "text": [
      "Texextraktion: 100%|██████████| 19/19 [00:00<00:00, 96.45it/s]\n"
     ]
    }
   ],
   "source": [
    "text = pre_process_pipeline(pdf_path,pages,num_pages)"
   ]
  },
  {
   "cell_type": "code",
   "execution_count": 16,
   "metadata": {},
   "outputs": [
    {
     "data": {
      "text/plain": [
       "'1. Grundlagen der Unternehmensführung\\n1.1 Definition der Betriebswirtschaftslehre\\nDie Betriebswirtschaftslehre istdie Lehre vom Wirtschaften in \\nUnternehmen .\\nEs istdie Aufgabe der Betriebswirtschaftslehre\\n- das wirtschaftliche Denken und Handeln der Menschen im\\nBetrieb zubeschreiben und zuerklären\\n- Gesetzmäßigkeiten und Zusammenhänge aufzuzeigen\\n- einSystem von Entscheidungssituationen , Verfahren und \\nMethoden zuentwickeln\\num eine optimale Durchsetzung der betrieblichen Zielsetzungen zu\\nermöglichen . \\nDefinition:\\nUnternehmensführung als Aufgabe, den Prozess der betrieblichen \\nLeistungserstellung so zu gestalten und auszuführen, dass die \\nUnternehmensziele auf optimalem / höchstmöglichen Niveau erreicht \\nwerden können.\\n=> Koordinationsfunktion und Steuerungsfunktion1. Grundlagen der Unternehmensführung\\n1.2 Definition der Unternehmensführung\\nUnternehmensführung alsManagement der Wertschöpfungskette\\nEingangs -\\nlogistikM&V Produktion Ausgangs -\\nlogistikService\\nUnternehmensführung\\nHuman Ressources\\nControlling und Rechnungswesen\\nForschung & Entwicklung, Qualität, It, Legal, SCM…..(Beschaffung)1. Grundlagen der Unternehmensführung\\n1.2 Definition Unternehmensführung\\nDefinition:\\nTätigkeiten , die zurHerstellung eines Produktes oder einer Dienstleistung\\nerbracht werden und die Werte dabei schaffen ,\\nRessourcen verbrauchen und miteinander verbunden sind\\nPrimäraktivitäten haben einen direkten wertschöpfenden Beitrag\\n- Beschaffung\\n- Eingangslogistik\\n- Produktion\\n- Marketing & Vertrieb\\n- Ausgangslogistik\\n- Kundenservice1. Grundlagen der Unternehmensführung\\n1.2 Definition Unternehmensführung\\nSekundäraktivitäten / Unterstützungsaktivitäten\\nsind Tätigkeiten , die fürdie Ausübung der primären Aktivitäten die \\nnotwendigen Voraussetzungen schaffen\\n- Unternehmensführung\\n- F&E\\n- HR\\n- Rechnungswesen\\n- Investition und Finanzierung\\n- IT\\n- Legal\\n- Kommunikation\\n- Qualität\\netc.1. Grundlagen der Unternehmensführung\\n1.2 Definition Unternehmensführung\\n1. Grundlagen der Unternehmensführung\\n1.2 Definition Unternehmensführung\\n\\n1. Grundlagen der Unternehmensführung\\n1.3 Begriffe : Betrieb / Unternehmen / Konzern / Firma\\nUnternehmen :\\nEigentümer des Betriebes und auch der Vertragspartner der Arbeitnehmer . Das \\nUnternehmen kann Eigentümer mehrerer Betriebe sein.\\nKonzern (Holding):\\nZusammenschluss mehrerer Unternehmen\\nBetrieb :\\nSelbständig organisatorische Einheit zurErreichung eines bestimmten Zweckes\\nWirtschaftseinheiten , in denen Güter erstellt werden .\\nFirma :\\nJuristischer Begriff . Name des Unternehmens unter dem es Geschäfte betreibt und \\nklagen und verklagt werden kann (vgl. §17 HGB).\\n1)Komplexe und vernetzte Entscheidungen\\n2)Langfristige Entscheidungen\\n3)Entscheidungen unter Unsicherheit ( vsRisiko)\\n4)Korrelationen sind oft nicht bekannt\\n5)Entscheidungen schwer umkehrbar\\n6)Häufig hohe finanzielle Auswirkungen\\n7)Grundkenntnisse von allen betriebswirtschaftlichen Funktionen\\n8)Einfluss auf alle Stakeholder\\n9)„Weiche“ Faktoren spielen eine entscheidende Rolle1. Grundlagen der Unternehmensführung\\n1.4 Merkmale unternehmenspolitischer Entscheidungen\\nKontrolleProjekte\\nPersonal -\\nmanagementStrategie\\nPlanungFührungs\\nstilZieleAufträge\\nProzesseSafetySteuerung\\nKultur1. Grundlagen der Unternehmensführung\\n1.4 Merkmale unternehmenspolitischer Entscheidungen\\nIntegrity\\n1. Grundlagen der Unternehmensführung\\n1.4 Merkmale unternehmenspolitischer Entscheidungen\\n1. Grundlagen der Unternehmensführung\\n1.5 Prozess und Aufgabe der Unternehmensführung\\n\\nProzess der Unternehmensführung –Phasen\\n1)Zielbildung: Konkretisierung der Unternehmensziele\\n=> Marktwirtschaftlicher Wettbewerb (um Ressourcen Arbeit und \\nKapital) => Langfristige Gewinnmaximierung als Hauptziel\\n2)Erarbeitung von Handlungsalternativen \\na)Aus externer Umwelt\\nb)Aus interner Umwelt\\n3)   Bewertung der Handlungsalternativen ( Alternativenbewertung ) => \\nZielerreichungsgrad1. Grundlagen der Unternehmensführung\\n1.5 Prozess und Aufgabe der Unternehmensführung\\n4)  Entscheidung für Alternativen unter Berücksichtigung des \\nunternehmensindividuellen Zielsystems\\n5) Ableitung der Maßnahmen zur Implementierung des Zielsystems\\nz.B. Betriebsmittel, Werkstoffe, Organisation, Personaleinsatz\\n6) Feststellung von Planabweichungen anhand \\nbetriebswirtschaftlicher Kennzahlen sowie frühzeitiges \\nGegensteuern1. Grundlagen der Unternehmensführung\\n1.5 Prozess und Aufgabe der Unternehmensführung\\n7)Informationen an die im Unternehmen beteiligten Personen\\n8)Verarbeitung von unternehmensexternen entscheidungsrelevanten \\nDaten\\n9)Analyse der Leistungen (z.B. Materialeinsatz) und Gegenleistungen \\n(Anzahl Produkte) => Informationen aus dem betrieblichen \\nRechnungswesen\\na) Produktivität b) Wirtschaftlichkeit\\nc) Rentabilität1. Grundlagen der Unternehmensführung\\n1.5 Prozess und Aufgabe der Unternehmensführung\\na) Produktivität\\nalsVerhältnis von mengenmäßigem Output zum\\nmengenmäßigen Input\\nBsp: 1000 Schrauben Ausbringungsmenge\\n---------------------- = -----------------------------\\n10 Kg Draht Faktoreinsatzmenge\\nProduktivität :\\n- Ausbringungsmenge steigt c.p.\\n- Fakoreinsatzmenge sinkt c.p.\\n- Kombination1. Grundlagen der Unternehmensführung\\n1.5 Prozess und Aufgabe der Unternehmensführung\\nb) Wirtschaftlichkeit\\nVerhältnis von wertmäßigem Output ( Ertrag ) zum wertmäßigen\\nInput ( Aufwand )\\n= Mengenmässiger Output wird mitAbsatzpreisen bewertet\\nund der mengenmässige Input mitFaktorpreisen\\nWirtschaftlichkeit = wertmässiger Faktorertrag\\n----------------------------------\\nwertmässiger Faktoreinsatz1. Grundlagen der Unternehmensführung\\n1.5 Prozess und Aufgabe der Unternehmensführung\\n1. Grundlagen der Unternehmensführung\\n1.5 Prozess und Aufgabe der Unternehmensführung\\nBsp.: \\n1000 Schrauben x 0,02cent/ Schraube (Ertrag )\\nWirtschaftlichkeit = ---------------------------------------------- -----------------\\n10 kg Draht x 2 €/kg Draht (Aufwand )\\nVerbesserung der Wirtschaftlichkeit durch :\\n1)verringerte Faktoreinsatzmenge (z.B. Technik)\\n2) erhöhte Faktorausbringungsmenge (z.B. Prozess )\\n1) und 2) istdie Produktivitätsverbesserung\\n3)Senkung der Faktorpreise (Einkauf )\\n4)Erhöhung der Absatzpreise (Vertriebsmanagement )\\n1)-4) Wirtschaftlichkeitsverbesserung\\n1. Grundlagen der Unternehmensführung\\n1.5 Prozess und Aufgabe der Unternehmensführung\\nc) Rentabilität\\nEine Erfolgsgröße z.B. Jahresüberschuss wird in Beziehung zueiner\\nBasisgröße gestellt .\\nBsp.:\\nJahresüberschuss\\n----------------------- x 100 (in %) =  Eigenkapitalrentabilität\\nEigenkapital\\n=> Erst relative Größe erlaubt eine adäquate Erfolgsbeurteilung\\n1. Grundlagen der Unternehmensführung\\n1.5 Prozess und Aufgabe der Unternehmensführung\\nBemerkungen :\\n'"
      ]
     },
     "execution_count": 16,
     "metadata": {},
     "output_type": "execute_result"
    }
   ],
   "source": [
    "text"
   ]
  },
  {
   "cell_type": "markdown",
   "metadata": {},
   "source": [
    "# Save data"
   ]
  },
  {
   "cell_type": "code",
   "execution_count": null,
   "metadata": {},
   "outputs": [],
   "source": [
    "# save the preprocessed lecture text\n",
    "with open('./Betriebsysteme.txt', 'w') as file:\n",
    "    file.write(text)"
   ]
  },
  {
   "cell_type": "markdown",
   "metadata": {},
   "source": [
    "## Translation to English"
   ]
  },
  {
   "cell_type": "code",
   "execution_count": null,
   "metadata": {},
   "outputs": [],
   "source": [
    "# Öffnen der Datei im Lesemodus\n",
    "with open(f'./{pdf}', 'r') as file:\n",
    "    # Lesen des gesamten Inhalts der Datei\n",
    "    content = file.read()\n",
    "\n",
    "# Anzeigen des Inhalts\n",
    "print(content)\n"
   ]
  },
  {
   "cell_type": "code",
   "execution_count": null,
   "metadata": {},
   "outputs": [],
   "source": [
    "def chat_with_gpt(prompt):\n",
    "    client = OpenAI(api_key=api_key,)\n",
    "\n",
    "    chat_completion = client.chat.completions.create(\n",
    "        messages=[\n",
    "            {\n",
    "                \"role\": \"user\",\n",
    "                \"content\": prompt,\n",
    "            }\n",
    "        ],\n",
    "        model=\"gpt-3.5-turbo\",\n",
    "    )\n",
    "    return chat_completion.choices[0].message.content\n",
    "# Beispielverwendung\n",
    "prompt = \"Überstze den folgenden Text Sinngemäß ins Englische:\"+\"Hallo wie gehts dir?\"\n",
    "response = chat_with_gpt(prompt)\n",
    "print(response)"
   ]
  },
  {
   "cell_type": "code",
   "execution_count": null,
   "metadata": {},
   "outputs": [],
   "source": [
    "with open('./VL_en.txt', 'w') as file:\n",
    "    file.write(response)"
   ]
  }
 ],
 "metadata": {
  "kernelspec": {
   "display_name": "DTC",
   "language": "python",
   "name": "python3"
  },
  "language_info": {
   "codemirror_mode": {
    "name": "ipython",
    "version": 3
   },
   "file_extension": ".py",
   "mimetype": "text/x-python",
   "name": "python",
   "nbconvert_exporter": "python",
   "pygments_lexer": "ipython3",
   "version": "3.11.5"
  }
 },
 "nbformat": 4,
 "nbformat_minor": 2
}
